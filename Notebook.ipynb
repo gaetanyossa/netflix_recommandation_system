{
 "cells": [
  {
   "cell_type": "markdown",
   "id": "d0ad86cf-955b-4ba1-8495-01c7421abdde",
   "metadata": {},
   "source": [
    "## Based recommandation system"
   ]
  },
  {
   "cell_type": "code",
   "execution_count": 4,
   "id": "36fcca05-06af-49b5-ace3-1bb3fe335560",
   "metadata": {},
   "outputs": [],
   "source": [
    "import os\n",
    "import numpy as np\n",
    "import pandas as pd"
   ]
  },
  {
   "cell_type": "code",
   "execution_count": 6,
   "id": "5536f018-b474-4c80-9ff8-8af0fc3aae5a",
   "metadata": {},
   "outputs": [
    {
     "data": {
      "text/html": [
       "<div>\n",
       "<style scoped>\n",
       "    .dataframe tbody tr th:only-of-type {\n",
       "        vertical-align: middle;\n",
       "    }\n",
       "\n",
       "    .dataframe tbody tr th {\n",
       "        vertical-align: top;\n",
       "    }\n",
       "\n",
       "    .dataframe thead th {\n",
       "        text-align: right;\n",
       "    }\n",
       "</style>\n",
       "<table border=\"1\" class=\"dataframe\">\n",
       "  <thead>\n",
       "    <tr style=\"text-align: right;\">\n",
       "      <th></th>\n",
       "      <th>movieId</th>\n",
       "      <th>title</th>\n",
       "      <th>genres</th>\n",
       "    </tr>\n",
       "  </thead>\n",
       "  <tbody>\n",
       "    <tr>\n",
       "      <th>0</th>\n",
       "      <td>1</td>\n",
       "      <td>Toy Story (1995)</td>\n",
       "      <td>Adventure|Animation|Children|Comedy|Fantasy</td>\n",
       "    </tr>\n",
       "    <tr>\n",
       "      <th>1</th>\n",
       "      <td>2</td>\n",
       "      <td>Jumanji (1995)</td>\n",
       "      <td>Adventure|Children|Fantasy</td>\n",
       "    </tr>\n",
       "    <tr>\n",
       "      <th>2</th>\n",
       "      <td>3</td>\n",
       "      <td>Grumpier Old Men (1995)</td>\n",
       "      <td>Comedy|Romance</td>\n",
       "    </tr>\n",
       "    <tr>\n",
       "      <th>3</th>\n",
       "      <td>4</td>\n",
       "      <td>Waiting to Exhale (1995)</td>\n",
       "      <td>Comedy|Drama|Romance</td>\n",
       "    </tr>\n",
       "    <tr>\n",
       "      <th>4</th>\n",
       "      <td>5</td>\n",
       "      <td>Father of the Bride Part II (1995)</td>\n",
       "      <td>Comedy</td>\n",
       "    </tr>\n",
       "  </tbody>\n",
       "</table>\n",
       "</div>"
      ],
      "text/plain": [
       "   movieId                               title  \\\n",
       "0        1                    Toy Story (1995)   \n",
       "1        2                      Jumanji (1995)   \n",
       "2        3             Grumpier Old Men (1995)   \n",
       "3        4            Waiting to Exhale (1995)   \n",
       "4        5  Father of the Bride Part II (1995)   \n",
       "\n",
       "                                        genres  \n",
       "0  Adventure|Animation|Children|Comedy|Fantasy  \n",
       "1                   Adventure|Children|Fantasy  \n",
       "2                               Comedy|Romance  \n",
       "3                         Comedy|Drama|Romance  \n",
       "4                                       Comedy  "
      ]
     },
     "execution_count": 6,
     "metadata": {},
     "output_type": "execute_result"
    }
   ],
   "source": [
    "movies_names = pd.read_csv(\"data/movies.csv\")\n",
    "movies_names.head(5)"
   ]
  },
  {
   "cell_type": "code",
   "execution_count": 5,
   "id": "0ac62c28-e434-45b9-8b8e-e99eee78209c",
   "metadata": {},
   "outputs": [
    {
     "data": {
      "text/html": [
       "<div>\n",
       "<style scoped>\n",
       "    .dataframe tbody tr th:only-of-type {\n",
       "        vertical-align: middle;\n",
       "    }\n",
       "\n",
       "    .dataframe tbody tr th {\n",
       "        vertical-align: top;\n",
       "    }\n",
       "\n",
       "    .dataframe thead th {\n",
       "        text-align: right;\n",
       "    }\n",
       "</style>\n",
       "<table border=\"1\" class=\"dataframe\">\n",
       "  <thead>\n",
       "    <tr style=\"text-align: right;\">\n",
       "      <th></th>\n",
       "      <th>userId</th>\n",
       "      <th>movieId</th>\n",
       "      <th>rating</th>\n",
       "      <th>timestamp</th>\n",
       "    </tr>\n",
       "  </thead>\n",
       "  <tbody>\n",
       "    <tr>\n",
       "      <th>0</th>\n",
       "      <td>1</td>\n",
       "      <td>31</td>\n",
       "      <td>2.5</td>\n",
       "      <td>1260759144</td>\n",
       "    </tr>\n",
       "    <tr>\n",
       "      <th>1</th>\n",
       "      <td>1</td>\n",
       "      <td>1029</td>\n",
       "      <td>3.0</td>\n",
       "      <td>1260759179</td>\n",
       "    </tr>\n",
       "    <tr>\n",
       "      <th>2</th>\n",
       "      <td>1</td>\n",
       "      <td>1061</td>\n",
       "      <td>3.0</td>\n",
       "      <td>1260759182</td>\n",
       "    </tr>\n",
       "    <tr>\n",
       "      <th>3</th>\n",
       "      <td>1</td>\n",
       "      <td>1129</td>\n",
       "      <td>2.0</td>\n",
       "      <td>1260759185</td>\n",
       "    </tr>\n",
       "    <tr>\n",
       "      <th>4</th>\n",
       "      <td>1</td>\n",
       "      <td>1172</td>\n",
       "      <td>4.0</td>\n",
       "      <td>1260759205</td>\n",
       "    </tr>\n",
       "  </tbody>\n",
       "</table>\n",
       "</div>"
      ],
      "text/plain": [
       "   userId  movieId  rating   timestamp\n",
       "0       1       31     2.5  1260759144\n",
       "1       1     1029     3.0  1260759179\n",
       "2       1     1061     3.0  1260759182\n",
       "3       1     1129     2.0  1260759185\n",
       "4       1     1172     4.0  1260759205"
      ]
     },
     "execution_count": 5,
     "metadata": {},
     "output_type": "execute_result"
    }
   ],
   "source": [
    "ratings_data= pd.read_csv(\"data/ratings.csv\")\n",
    "ratings_data.head(5)"
   ]
  },
  {
   "cell_type": "code",
   "execution_count": 7,
   "id": "deb2142f-5c57-496a-827f-5342cf86a888",
   "metadata": {},
   "outputs": [
    {
     "data": {
      "text/html": [
       "<div>\n",
       "<style scoped>\n",
       "    .dataframe tbody tr th:only-of-type {\n",
       "        vertical-align: middle;\n",
       "    }\n",
       "\n",
       "    .dataframe tbody tr th {\n",
       "        vertical-align: top;\n",
       "    }\n",
       "\n",
       "    .dataframe thead th {\n",
       "        text-align: right;\n",
       "    }\n",
       "</style>\n",
       "<table border=\"1\" class=\"dataframe\">\n",
       "  <thead>\n",
       "    <tr style=\"text-align: right;\">\n",
       "      <th></th>\n",
       "      <th>userId</th>\n",
       "      <th>movieId</th>\n",
       "      <th>rating</th>\n",
       "      <th>timestamp</th>\n",
       "      <th>title</th>\n",
       "      <th>genres</th>\n",
       "    </tr>\n",
       "  </thead>\n",
       "  <tbody>\n",
       "    <tr>\n",
       "      <th>0</th>\n",
       "      <td>1</td>\n",
       "      <td>31</td>\n",
       "      <td>2.5</td>\n",
       "      <td>1260759144</td>\n",
       "      <td>Dangerous Minds (1995)</td>\n",
       "      <td>Drama</td>\n",
       "    </tr>\n",
       "    <tr>\n",
       "      <th>1</th>\n",
       "      <td>7</td>\n",
       "      <td>31</td>\n",
       "      <td>3.0</td>\n",
       "      <td>851868750</td>\n",
       "      <td>Dangerous Minds (1995)</td>\n",
       "      <td>Drama</td>\n",
       "    </tr>\n",
       "    <tr>\n",
       "      <th>2</th>\n",
       "      <td>31</td>\n",
       "      <td>31</td>\n",
       "      <td>4.0</td>\n",
       "      <td>1273541953</td>\n",
       "      <td>Dangerous Minds (1995)</td>\n",
       "      <td>Drama</td>\n",
       "    </tr>\n",
       "    <tr>\n",
       "      <th>3</th>\n",
       "      <td>32</td>\n",
       "      <td>31</td>\n",
       "      <td>4.0</td>\n",
       "      <td>834828440</td>\n",
       "      <td>Dangerous Minds (1995)</td>\n",
       "      <td>Drama</td>\n",
       "    </tr>\n",
       "    <tr>\n",
       "      <th>4</th>\n",
       "      <td>36</td>\n",
       "      <td>31</td>\n",
       "      <td>3.0</td>\n",
       "      <td>847057202</td>\n",
       "      <td>Dangerous Minds (1995)</td>\n",
       "      <td>Drama</td>\n",
       "    </tr>\n",
       "  </tbody>\n",
       "</table>\n",
       "</div>"
      ],
      "text/plain": [
       "   userId  movieId  rating   timestamp                   title genres\n",
       "0       1       31     2.5  1260759144  Dangerous Minds (1995)  Drama\n",
       "1       7       31     3.0   851868750  Dangerous Minds (1995)  Drama\n",
       "2      31       31     4.0  1273541953  Dangerous Minds (1995)  Drama\n",
       "3      32       31     4.0   834828440  Dangerous Minds (1995)  Drama\n",
       "4      36       31     3.0   847057202  Dangerous Minds (1995)  Drama"
      ]
     },
     "execution_count": 7,
     "metadata": {},
     "output_type": "execute_result"
    }
   ],
   "source": [
    "movie_data =  pd.merge(ratings_data , movies_names , on= 'movieId')\n",
    "movie_data.head(5)"
   ]
  },
  {
   "cell_type": "markdown",
   "id": "3983c763",
   "metadata": {},
   "source": [
    "## Critères de recommandation \n",
    "##### 1- film avec le plus d'avis\n",
    "##### 2- nombre de vues"
   ]
  },
  {
   "cell_type": "markdown",
   "id": "41d8ef26",
   "metadata": {},
   "source": [
    "## Moyenne des avis de films"
   ]
  },
  {
   "cell_type": "code",
   "execution_count": 8,
   "id": "1ee28102",
   "metadata": {},
   "outputs": [
    {
     "data": {
      "text/plain": [
       "title\n",
       "\"Great Performances\" Cats (1998)           1.750000\n",
       "$9.99 (2008)                               3.833333\n",
       "'Hellboy': The Seeds of Creation (2004)    2.000000\n",
       "'Neath the Arizona Skies (1934)            0.500000\n",
       "'Round Midnight (1986)                     2.250000\n",
       "Name: rating, dtype: float64"
      ]
     },
     "execution_count": 8,
     "metadata": {},
     "output_type": "execute_result"
    }
   ],
   "source": [
    "movie_data.groupby('title')['rating'].mean().head()"
   ]
  },
  {
   "cell_type": "code",
   "execution_count": 9,
   "id": "349baba1",
   "metadata": {},
   "outputs": [
    {
     "data": {
      "text/plain": [
       "title\n",
       "Ivan Vasilievich: Back to the Future (Ivan Vasilievich menyaet professiyu) (1973)    5.0\n",
       "Alien Escape (1995)                                                                  5.0\n",
       "Boiling Point (1993)                                                                 5.0\n",
       "Bone Tomahawk (2015)                                                                 5.0\n",
       "Borgman (2013)                                                                       5.0\n",
       "Survive and Advance (2013)                                                           5.0\n",
       "Supercop 2 (Project S) (Chao ji ji hua) (1993)                                       5.0\n",
       "Last Dragon, The (1985)                                                              5.0\n",
       "Boy Crazy (2009)                                                                     5.0\n",
       "Brandon Teena Story, The (1998)                                                      5.0\n",
       "Name: rating, dtype: float64"
      ]
     },
     "execution_count": 9,
     "metadata": {},
     "output_type": "execute_result"
    }
   ],
   "source": [
    "movie_data.groupby('title')['rating'].mean().sort_values(ascending=False).head(10)"
   ]
  },
  {
   "cell_type": "markdown",
   "id": "9b599e17",
   "metadata": {},
   "source": [
    "## comptage de film"
   ]
  },
  {
   "cell_type": "code",
   "execution_count": 10,
   "id": "9f1ec817",
   "metadata": {},
   "outputs": [
    {
     "data": {
      "text/plain": [
       "title\n",
       "Forrest Gump (1994)                          341\n",
       "Pulp Fiction (1994)                          324\n",
       "Shawshank Redemption, The (1994)             311\n",
       "Silence of the Lambs, The (1991)             304\n",
       "Star Wars: Episode IV - A New Hope (1977)    291\n",
       "Jurassic Park (1993)                         274\n",
       "Matrix, The (1999)                           259\n",
       "Toy Story (1995)                             247\n",
       "Schindler's List (1993)                      244\n",
       "Terminator 2: Judgment Day (1991)            237\n",
       "Name: rating, dtype: int64"
      ]
     },
     "execution_count": 10,
     "metadata": {},
     "output_type": "execute_result"
    }
   ],
   "source": [
    "movie_data.groupby('title')['rating'].count().sort_values(ascending=False).head(10)"
   ]
  },
  {
   "cell_type": "markdown",
   "id": "52c5ecb5",
   "metadata": {},
   "source": [
    "### Ajout du comptage des films a notre table"
   ]
  },
  {
   "cell_type": "code",
   "execution_count": 11,
   "id": "402a3f8b",
   "metadata": {},
   "outputs": [
    {
     "data": {
      "text/html": [
       "<div>\n",
       "<style scoped>\n",
       "    .dataframe tbody tr th:only-of-type {\n",
       "        vertical-align: middle;\n",
       "    }\n",
       "\n",
       "    .dataframe tbody tr th {\n",
       "        vertical-align: top;\n",
       "    }\n",
       "\n",
       "    .dataframe thead th {\n",
       "        text-align: right;\n",
       "    }\n",
       "</style>\n",
       "<table border=\"1\" class=\"dataframe\">\n",
       "  <thead>\n",
       "    <tr style=\"text-align: right;\">\n",
       "      <th></th>\n",
       "      <th>title</th>\n",
       "      <th>rating</th>\n",
       "    </tr>\n",
       "  </thead>\n",
       "  <tbody>\n",
       "    <tr>\n",
       "      <th>0</th>\n",
       "      <td>Dangerous Minds (1995)</td>\n",
       "      <td>2.5</td>\n",
       "    </tr>\n",
       "    <tr>\n",
       "      <th>1</th>\n",
       "      <td>Dangerous Minds (1995)</td>\n",
       "      <td>3.0</td>\n",
       "    </tr>\n",
       "    <tr>\n",
       "      <th>2</th>\n",
       "      <td>Dangerous Minds (1995)</td>\n",
       "      <td>4.0</td>\n",
       "    </tr>\n",
       "    <tr>\n",
       "      <th>3</th>\n",
       "      <td>Dangerous Minds (1995)</td>\n",
       "      <td>4.0</td>\n",
       "    </tr>\n",
       "    <tr>\n",
       "      <th>4</th>\n",
       "      <td>Dangerous Minds (1995)</td>\n",
       "      <td>3.0</td>\n",
       "    </tr>\n",
       "    <tr>\n",
       "      <th>...</th>\n",
       "      <td>...</td>\n",
       "      <td>...</td>\n",
       "    </tr>\n",
       "    <tr>\n",
       "      <th>99999</th>\n",
       "      <td>War of the Worlds (2005)</td>\n",
       "      <td>2.5</td>\n",
       "    </tr>\n",
       "    <tr>\n",
       "      <th>100000</th>\n",
       "      <td>Box, The (2009)</td>\n",
       "      <td>3.5</td>\n",
       "    </tr>\n",
       "    <tr>\n",
       "      <th>100001</th>\n",
       "      <td>Pie in the Sky (1996)</td>\n",
       "      <td>3.0</td>\n",
       "    </tr>\n",
       "    <tr>\n",
       "      <th>100002</th>\n",
       "      <td>Summer Catch (2001)</td>\n",
       "      <td>1.0</td>\n",
       "    </tr>\n",
       "    <tr>\n",
       "      <th>100003</th>\n",
       "      <td>6th Man, The (Sixth Man, The) (1997)</td>\n",
       "      <td>1.0</td>\n",
       "    </tr>\n",
       "  </tbody>\n",
       "</table>\n",
       "<p>100004 rows × 2 columns</p>\n",
       "</div>"
      ],
      "text/plain": [
       "                                       title  rating\n",
       "0                     Dangerous Minds (1995)     2.5\n",
       "1                     Dangerous Minds (1995)     3.0\n",
       "2                     Dangerous Minds (1995)     4.0\n",
       "3                     Dangerous Minds (1995)     4.0\n",
       "4                     Dangerous Minds (1995)     3.0\n",
       "...                                      ...     ...\n",
       "99999               War of the Worlds (2005)     2.5\n",
       "100000                       Box, The (2009)     3.5\n",
       "100001                 Pie in the Sky (1996)     3.0\n",
       "100002                   Summer Catch (2001)     1.0\n",
       "100003  6th Man, The (Sixth Man, The) (1997)     1.0\n",
       "\n",
       "[100004 rows x 2 columns]"
      ]
     },
     "execution_count": 11,
     "metadata": {},
     "output_type": "execute_result"
    }
   ],
   "source": [
    "movie_data[['title', 'rating']]"
   ]
  },
  {
   "cell_type": "markdown",
   "id": "025d5689",
   "metadata": {},
   "source": [
    "#### calcul de la moyenne des avis"
   ]
  },
  {
   "cell_type": "code",
   "execution_count": 12,
   "id": "c6ca92e4",
   "metadata": {},
   "outputs": [
    {
     "data": {
      "text/html": [
       "<div>\n",
       "<style scoped>\n",
       "    .dataframe tbody tr th:only-of-type {\n",
       "        vertical-align: middle;\n",
       "    }\n",
       "\n",
       "    .dataframe tbody tr th {\n",
       "        vertical-align: top;\n",
       "    }\n",
       "\n",
       "    .dataframe thead th {\n",
       "        text-align: right;\n",
       "    }\n",
       "</style>\n",
       "<table border=\"1\" class=\"dataframe\">\n",
       "  <thead>\n",
       "    <tr style=\"text-align: right;\">\n",
       "      <th></th>\n",
       "      <th>rating</th>\n",
       "    </tr>\n",
       "    <tr>\n",
       "      <th>title</th>\n",
       "      <th></th>\n",
       "    </tr>\n",
       "  </thead>\n",
       "  <tbody>\n",
       "    <tr>\n",
       "      <th>\"Great Performances\" Cats (1998)</th>\n",
       "      <td>1.750000</td>\n",
       "    </tr>\n",
       "    <tr>\n",
       "      <th>$9.99 (2008)</th>\n",
       "      <td>3.833333</td>\n",
       "    </tr>\n",
       "    <tr>\n",
       "      <th>'Hellboy': The Seeds of Creation (2004)</th>\n",
       "      <td>2.000000</td>\n",
       "    </tr>\n",
       "    <tr>\n",
       "      <th>'Neath the Arizona Skies (1934)</th>\n",
       "      <td>0.500000</td>\n",
       "    </tr>\n",
       "    <tr>\n",
       "      <th>'Round Midnight (1986)</th>\n",
       "      <td>2.250000</td>\n",
       "    </tr>\n",
       "    <tr>\n",
       "      <th>...</th>\n",
       "      <td>...</td>\n",
       "    </tr>\n",
       "    <tr>\n",
       "      <th>xXx (2002)</th>\n",
       "      <td>2.478261</td>\n",
       "    </tr>\n",
       "    <tr>\n",
       "      <th>xXx: State of the Union (2005)</th>\n",
       "      <td>1.000000</td>\n",
       "    </tr>\n",
       "    <tr>\n",
       "      <th>¡Three Amigos! (1986)</th>\n",
       "      <td>3.258065</td>\n",
       "    </tr>\n",
       "    <tr>\n",
       "      <th>À nous la liberté (Freedom for Us) (1931)</th>\n",
       "      <td>4.500000</td>\n",
       "    </tr>\n",
       "    <tr>\n",
       "      <th>İtirazım Var (2014)</th>\n",
       "      <td>3.500000</td>\n",
       "    </tr>\n",
       "  </tbody>\n",
       "</table>\n",
       "<p>9064 rows × 1 columns</p>\n",
       "</div>"
      ],
      "text/plain": [
       "                                             rating\n",
       "title                                              \n",
       "\"Great Performances\" Cats (1998)           1.750000\n",
       "$9.99 (2008)                               3.833333\n",
       "'Hellboy': The Seeds of Creation (2004)    2.000000\n",
       "'Neath the Arizona Skies (1934)            0.500000\n",
       "'Round Midnight (1986)                     2.250000\n",
       "...                                             ...\n",
       "xXx (2002)                                 2.478261\n",
       "xXx: State of the Union (2005)             1.000000\n",
       "¡Three Amigos! (1986)                      3.258065\n",
       "À nous la liberté (Freedom for Us) (1931)  4.500000\n",
       "İtirazım Var (2014)                        3.500000\n",
       "\n",
       "[9064 rows x 1 columns]"
      ]
     },
     "execution_count": 12,
     "metadata": {},
     "output_type": "execute_result"
    }
   ],
   "source": [
    "ratings_mean_count = pd.DataFrame(movie_data.groupby('title')['rating'].mean())\n",
    "ratings_mean_count"
   ]
  },
  {
   "cell_type": "markdown",
   "id": "d10b238c",
   "metadata": {},
   "source": [
    "##### Calcul du nombre d'évaluations et la note moyenne ci-dessus"
   ]
  },
  {
   "cell_type": "code",
   "execution_count": 13,
   "id": "1f8e51b2",
   "metadata": {},
   "outputs": [],
   "source": [
    "ratings_mean_count['rating_counts'] = pd.DataFrame(movie_data.groupby('title')['rating'].count())"
   ]
  },
  {
   "cell_type": "code",
   "execution_count": 14,
   "id": "4d5112d4",
   "metadata": {},
   "outputs": [
    {
     "data": {
      "text/html": [
       "<div>\n",
       "<style scoped>\n",
       "    .dataframe tbody tr th:only-of-type {\n",
       "        vertical-align: middle;\n",
       "    }\n",
       "\n",
       "    .dataframe tbody tr th {\n",
       "        vertical-align: top;\n",
       "    }\n",
       "\n",
       "    .dataframe thead th {\n",
       "        text-align: right;\n",
       "    }\n",
       "</style>\n",
       "<table border=\"1\" class=\"dataframe\">\n",
       "  <thead>\n",
       "    <tr style=\"text-align: right;\">\n",
       "      <th></th>\n",
       "      <th>rating</th>\n",
       "      <th>rating_counts</th>\n",
       "    </tr>\n",
       "    <tr>\n",
       "      <th>title</th>\n",
       "      <th></th>\n",
       "      <th></th>\n",
       "    </tr>\n",
       "  </thead>\n",
       "  <tbody>\n",
       "    <tr>\n",
       "      <th>\"Great Performances\" Cats (1998)</th>\n",
       "      <td>1.750000</td>\n",
       "      <td>2</td>\n",
       "    </tr>\n",
       "    <tr>\n",
       "      <th>$9.99 (2008)</th>\n",
       "      <td>3.833333</td>\n",
       "      <td>3</td>\n",
       "    </tr>\n",
       "    <tr>\n",
       "      <th>'Hellboy': The Seeds of Creation (2004)</th>\n",
       "      <td>2.000000</td>\n",
       "      <td>1</td>\n",
       "    </tr>\n",
       "    <tr>\n",
       "      <th>'Neath the Arizona Skies (1934)</th>\n",
       "      <td>0.500000</td>\n",
       "      <td>1</td>\n",
       "    </tr>\n",
       "    <tr>\n",
       "      <th>'Round Midnight (1986)</th>\n",
       "      <td>2.250000</td>\n",
       "      <td>2</td>\n",
       "    </tr>\n",
       "  </tbody>\n",
       "</table>\n",
       "</div>"
      ],
      "text/plain": [
       "                                           rating  rating_counts\n",
       "title                                                           \n",
       "\"Great Performances\" Cats (1998)         1.750000              2\n",
       "$9.99 (2008)                             3.833333              3\n",
       "'Hellboy': The Seeds of Creation (2004)  2.000000              1\n",
       "'Neath the Arizona Skies (1934)          0.500000              1\n",
       "'Round Midnight (1986)                   2.250000              2"
      ]
     },
     "execution_count": 14,
     "metadata": {},
     "output_type": "execute_result"
    }
   ],
   "source": [
    "ratings_mean_count.head(5)"
   ]
  },
  {
   "cell_type": "code",
   "execution_count": 15,
   "id": "71ca8762",
   "metadata": {},
   "outputs": [],
   "source": [
    "ratings_mean_count['rating'] = round(ratings_mean_count['rating'], 1) #arondir a un chiffre apres la virgule"
   ]
  },
  {
   "cell_type": "code",
   "execution_count": 16,
   "id": "6db8813e",
   "metadata": {},
   "outputs": [
    {
     "data": {
      "text/html": [
       "<div>\n",
       "<style scoped>\n",
       "    .dataframe tbody tr th:only-of-type {\n",
       "        vertical-align: middle;\n",
       "    }\n",
       "\n",
       "    .dataframe tbody tr th {\n",
       "        vertical-align: top;\n",
       "    }\n",
       "\n",
       "    .dataframe thead th {\n",
       "        text-align: right;\n",
       "    }\n",
       "</style>\n",
       "<table border=\"1\" class=\"dataframe\">\n",
       "  <thead>\n",
       "    <tr style=\"text-align: right;\">\n",
       "      <th></th>\n",
       "      <th>rating</th>\n",
       "      <th>rating_counts</th>\n",
       "    </tr>\n",
       "    <tr>\n",
       "      <th>title</th>\n",
       "      <th></th>\n",
       "      <th></th>\n",
       "    </tr>\n",
       "  </thead>\n",
       "  <tbody>\n",
       "    <tr>\n",
       "      <th>\"Great Performances\" Cats (1998)</th>\n",
       "      <td>1.8</td>\n",
       "      <td>2</td>\n",
       "    </tr>\n",
       "    <tr>\n",
       "      <th>$9.99 (2008)</th>\n",
       "      <td>3.8</td>\n",
       "      <td>3</td>\n",
       "    </tr>\n",
       "    <tr>\n",
       "      <th>'Hellboy': The Seeds of Creation (2004)</th>\n",
       "      <td>2.0</td>\n",
       "      <td>1</td>\n",
       "    </tr>\n",
       "    <tr>\n",
       "      <th>'Neath the Arizona Skies (1934)</th>\n",
       "      <td>0.5</td>\n",
       "      <td>1</td>\n",
       "    </tr>\n",
       "    <tr>\n",
       "      <th>'Round Midnight (1986)</th>\n",
       "      <td>2.2</td>\n",
       "      <td>2</td>\n",
       "    </tr>\n",
       "  </tbody>\n",
       "</table>\n",
       "</div>"
      ],
      "text/plain": [
       "                                         rating  rating_counts\n",
       "title                                                         \n",
       "\"Great Performances\" Cats (1998)            1.8              2\n",
       "$9.99 (2008)                                3.8              3\n",
       "'Hellboy': The Seeds of Creation (2004)     2.0              1\n",
       "'Neath the Arizona Skies (1934)             0.5              1\n",
       "'Round Midnight (1986)                      2.2              2"
      ]
     },
     "execution_count": 16,
     "metadata": {},
     "output_type": "execute_result"
    }
   ],
   "source": [
    "ratings_mean_count.head(5)"
   ]
  },
  {
   "cell_type": "code",
   "execution_count": 18,
   "id": "2372e52a",
   "metadata": {},
   "outputs": [
    {
     "data": {
      "text/html": [
       "<div>\n",
       "<style scoped>\n",
       "    .dataframe tbody tr th:only-of-type {\n",
       "        vertical-align: middle;\n",
       "    }\n",
       "\n",
       "    .dataframe tbody tr th {\n",
       "        vertical-align: top;\n",
       "    }\n",
       "\n",
       "    .dataframe thead th {\n",
       "        text-align: right;\n",
       "    }\n",
       "</style>\n",
       "<table border=\"1\" class=\"dataframe\">\n",
       "  <thead>\n",
       "    <tr style=\"text-align: right;\">\n",
       "      <th></th>\n",
       "      <th>rating</th>\n",
       "      <th>rating_counts</th>\n",
       "    </tr>\n",
       "    <tr>\n",
       "      <th>title</th>\n",
       "      <th></th>\n",
       "      <th></th>\n",
       "    </tr>\n",
       "  </thead>\n",
       "  <tbody>\n",
       "  </tbody>\n",
       "</table>\n",
       "</div>"
      ],
      "text/plain": [
       "Empty DataFrame\n",
       "Columns: [rating, rating_counts]\n",
       "Index: []"
      ]
     },
     "execution_count": 18,
     "metadata": {},
     "output_type": "execute_result"
    }
   ],
   "source": [
    "ratings_mean_count =  ratings_mean_count[(ratings_mean_count['rating']> 3 ) & (ratings_mean_count['rating_counts']>100)]\n",
    "ratings_mean_count"
   ]
  },
  {
   "cell_type": "code",
   "execution_count": 17,
   "id": "1b7eb8ef",
   "metadata": {},
   "outputs": [
    {
     "data": {
      "text/html": [
       "<div>\n",
       "<style scoped>\n",
       "    .dataframe tbody tr th:only-of-type {\n",
       "        vertical-align: middle;\n",
       "    }\n",
       "\n",
       "    .dataframe tbody tr th {\n",
       "        vertical-align: top;\n",
       "    }\n",
       "\n",
       "    .dataframe thead th {\n",
       "        text-align: right;\n",
       "    }\n",
       "</style>\n",
       "<table border=\"1\" class=\"dataframe\">\n",
       "  <thead>\n",
       "    <tr style=\"text-align: right;\">\n",
       "      <th></th>\n",
       "      <th>rating</th>\n",
       "      <th>rating_counts</th>\n",
       "    </tr>\n",
       "    <tr>\n",
       "      <th>title</th>\n",
       "      <th></th>\n",
       "      <th></th>\n",
       "    </tr>\n",
       "  </thead>\n",
       "  <tbody>\n",
       "    <tr>\n",
       "      <th>Borgman (2013)</th>\n",
       "      <td>5.0</td>\n",
       "      <td>1</td>\n",
       "    </tr>\n",
       "    <tr>\n",
       "      <th>Seducing Doctor Lewis (Grande séduction, La) (2003)</th>\n",
       "      <td>5.0</td>\n",
       "      <td>1</td>\n",
       "    </tr>\n",
       "    <tr>\n",
       "      <th>Dark Days (2000)</th>\n",
       "      <td>5.0</td>\n",
       "      <td>1</td>\n",
       "    </tr>\n",
       "    <tr>\n",
       "      <th>Phantom of the Paradise (1974)</th>\n",
       "      <td>5.0</td>\n",
       "      <td>1</td>\n",
       "    </tr>\n",
       "    <tr>\n",
       "      <th>Robin Williams: Weapons of Self Destruction (2009)</th>\n",
       "      <td>5.0</td>\n",
       "      <td>1</td>\n",
       "    </tr>\n",
       "    <tr>\n",
       "      <th>Two Ninas (1999)</th>\n",
       "      <td>5.0</td>\n",
       "      <td>1</td>\n",
       "    </tr>\n",
       "    <tr>\n",
       "      <th>Eighteen (2005)</th>\n",
       "      <td>5.0</td>\n",
       "      <td>1</td>\n",
       "    </tr>\n",
       "    <tr>\n",
       "      <th>Two Escobars, The (2010)</th>\n",
       "      <td>5.0</td>\n",
       "      <td>1</td>\n",
       "    </tr>\n",
       "    <tr>\n",
       "      <th>Lake of Fire (2006)</th>\n",
       "      <td>5.0</td>\n",
       "      <td>1</td>\n",
       "    </tr>\n",
       "    <tr>\n",
       "      <th>Lamerica (1994)</th>\n",
       "      <td>5.0</td>\n",
       "      <td>1</td>\n",
       "    </tr>\n",
       "  </tbody>\n",
       "</table>\n",
       "</div>"
      ],
      "text/plain": [
       "                                                    rating  rating_counts\n",
       "title                                                                    \n",
       "Borgman (2013)                                         5.0              1\n",
       "Seducing Doctor Lewis (Grande séduction, La) (2...     5.0              1\n",
       "Dark Days (2000)                                       5.0              1\n",
       "Phantom of the Paradise (1974)                         5.0              1\n",
       "Robin Williams: Weapons of Self Destruction (2009)     5.0              1\n",
       "Two Ninas (1999)                                       5.0              1\n",
       "Eighteen (2005)                                        5.0              1\n",
       "Two Escobars, The (2010)                               5.0              1\n",
       "Lake of Fire (2006)                                    5.0              1\n",
       "Lamerica (1994)                                        5.0              1"
      ]
     },
     "execution_count": 17,
     "metadata": {},
     "output_type": "execute_result"
    }
   ],
   "source": [
    "ratings_mean_count = ratings_mean_count.sort_values(by = \"rating\" , ascending=False).head(10)\n",
    "ratings_mean_count"
   ]
  },
  {
   "cell_type": "markdown",
   "id": "ab2d6178",
   "metadata": {},
   "source": [
    "#### calcul de la similarité cosinus en python"
   ]
  },
  {
   "cell_type": "code",
   "execution_count": 19,
   "id": "75169733",
   "metadata": {},
   "outputs": [],
   "source": [
    "from math import*\n",
    "def square_rooted(x):\n",
    "    return round(sqrt(sum([a*a for a in x])), 3)\n",
    "def cosine_similarity(x,y):\n",
    "    numerator =  sum(a*b for a,b in zip(x,y))\n",
    "    denominator = square_rooted(x)*square_rooted(y)\n",
    "    return round(numerator/float(denominator), 3)"
   ]
  },
  {
   "cell_type": "code",
   "execution_count": 20,
   "id": "69600112",
   "metadata": {},
   "outputs": [
    {
     "name": "stdout",
     "output_type": "stream",
     "text": [
      "0.972\n"
     ]
    }
   ],
   "source": [
    "print(cosine_similarity([3,45,7,2],[2,54,13,15]))"
   ]
  },
  {
   "cell_type": "code",
   "execution_count": 21,
   "id": "35a678e8",
   "metadata": {},
   "outputs": [
    {
     "data": {
      "text/plain": [
       "0.972"
      ]
     },
     "execution_count": 21,
     "metadata": {},
     "output_type": "execute_result"
    }
   ],
   "source": [
    "#Autre methode pour calculer\n",
    "\n",
    "# Vecteurs a et b\n",
    "a = np.array([3, 45, 7, 2])\n",
    "b = np.array([2, 54, 13, 15])\n",
    "\n",
    "# Calcul de la similarité cosinus\n",
    "dot_product = np.dot(a, b)\n",
    "norm_a = np.linalg.norm(a)\n",
    "norm_b = np.linalg.norm(b)\n",
    "cosine_similarity =round(( dot_product / (norm_a * norm_b)),3)\n",
    "\n",
    "cosine_similarity\n"
   ]
  },
  {
   "cell_type": "code",
   "execution_count": 22,
   "id": "da30fa5e",
   "metadata": {},
   "outputs": [
    {
     "data": {
      "text/plain": [
       "0.7168117414430619"
      ]
     },
     "execution_count": 22,
     "metadata": {},
     "output_type": "execute_result"
    }
   ],
   "source": [
    "from sklearn.feature_extraction.text import TfidfVectorizer\n",
    "from sklearn.metrics.pairwise import cosine_similarity\n",
    "\n",
    "# Deux phrases à comparer\n",
    "sentence1 = \"La maison est jolie et grande.\"\n",
    "sentence2 = \"La grande maison est très jolie.\"\n",
    "\n",
    "# Prétraitement et conversion en vecteurs TF-IDF\n",
    "vectorizer = TfidfVectorizer()\n",
    "tfidf_matrix = vectorizer.fit_transform([sentence1, sentence2])\n",
    "\n",
    "# Calcul de la similarité cosinus\n",
    "cosine_sim = cosine_similarity(tfidf_matrix[0:1], tfidf_matrix[1:2])\n",
    "\n",
    "cosine_sim[0][0]\n"
   ]
  },
  {
   "cell_type": "code",
   "execution_count": 23,
   "id": "8bbb87d2",
   "metadata": {},
   "outputs": [],
   "source": [
    "import pandas as pd\n",
    "\n",
    "from sklearn.feature_extraction.text import CountVectorizer\n",
    "\n",
    "pd.set_option('display.max_columns',100)\n",
    "df= pd.read_csv('https://query.data.world/s/uikepcpffyo2nhig52xxeevdialfl7')\n",
    "#df.head()"
   ]
  },
  {
   "cell_type": "code",
   "execution_count": 24,
   "id": "f13c4cda",
   "metadata": {},
   "outputs": [
    {
     "data": {
      "text/plain": [
       "(250, 38)"
      ]
     },
     "execution_count": 24,
     "metadata": {},
     "output_type": "execute_result"
    }
   ],
   "source": [
    "df.shape"
   ]
  },
  {
   "cell_type": "markdown",
   "id": "2102bf36",
   "metadata": {},
   "source": [
    "#### On va se servir du titre , du genre , du directeur , des acteurs et du resumé pour sortir des recommandations"
   ]
  },
  {
   "cell_type": "code",
   "execution_count": 25,
   "id": "319370b8",
   "metadata": {},
   "outputs": [],
   "source": [
    "df = df [['Title', 'Genre' , 'Director', 'Actors' , 'Plot']]"
   ]
  },
  {
   "cell_type": "code",
   "execution_count": 26,
   "id": "444634a3",
   "metadata": {},
   "outputs": [
    {
     "name": "stdout",
     "output_type": "stream",
     "text": [
      "                      Title                                      Actors  \\\n",
      "0  The Shawshank Redemption      [timrobbins, morganfreeman, bobgunton]   \n",
      "1             The Godfather         [marlonbrando, alpacino, jamescaan]   \n",
      "2    The Godfather: Part II       [alpacino, robertduvall, dianekeaton]   \n",
      "3           The Dark Knight  [christianbale, heathledger, aaroneckhart]   \n",
      "4              12 Angry Men      [martinbalsam, johnfiedler, leej.cobb]   \n",
      "\n",
      "             Director  \n",
      "0       frankdarabont  \n",
      "1  francisfordcoppola  \n",
      "2  francisfordcoppola  \n",
      "3    christophernolan  \n",
      "4         sidneylumet  \n"
     ]
    }
   ],
   "source": [
    "df['Actors'] = df['Actors'].map(lambda x: [actor.strip().lower().replace(' ', '') for actor in x.split(',')[:3]])\n",
    "df['Genre'] = df['Genre'].map(lambda x: [genre.strip().lower() for genre in x.split(',')])\n",
    "df['Director'] = df['Director'].map(lambda x: ''.join(x.split()).lower())\n",
    "\n",
    "# Appliquer les transformations sur chaque ligne\n",
    "for index, row in df.iterrows():\n",
    "    df.at[index, 'Actors'] = [actor.strip().lower().replace(' ', '') for actor in row['Actors']]\n",
    "    df.at[index, 'Director'] = ''.join(row['Director']).lower()\n",
    "\n",
    "print(df[['Title', 'Actors', 'Director']].head())"
   ]
  },
  {
   "cell_type": "code",
   "execution_count": 27,
   "id": "4652cfc2",
   "metadata": {},
   "outputs": [
    {
     "name": "stderr",
     "output_type": "stream",
     "text": [
      "[nltk_data] Downloading package stopwords to\n",
      "[nltk_data]     C:\\Users\\gaetanyossa\\AppData\\Roaming\\nltk_data...\n",
      "[nltk_data]   Package stopwords is already up-to-date!\n",
      "[nltk_data] Downloading package punkt to\n",
      "[nltk_data]     C:\\Users\\gaetanyossa\\AppData\\Roaming\\nltk_data...\n",
      "[nltk_data]   Package punkt is already up-to-date!\n"
     ]
    }
   ],
   "source": [
    "import rake_nltk\n",
    "from rake_nltk import Rake\n",
    "import nltk\n",
    "nltk.download('stopwords')\n",
    "nltk.download('punkt')\n",
    "\n",
    "df['Key_words']= \"\"\n",
    "for index, row in df.iterrows():\n",
    "    plot = row['Plot']\n",
    "    r = Rake()\n",
    "    r.extract_keywords_from_text(plot)\n",
    "    key_words_dict_scores = r.get_word_degrees()\n",
    "    df.at[index, 'Key_words'] = list(key_words_dict_scores.keys())\n",
    "\n",
    "# Supprimer la colonne 'Plot' car elle n'est plus nécessaire\n",
    "df.drop(columns=['Plot'], inplace=True)\n",
    "\n"
   ]
  },
  {
   "cell_type": "code",
   "execution_count": 28,
   "id": "29ade350",
   "metadata": {},
   "outputs": [
    {
     "data": {
      "text/plain": [
       "defaultdict(<function rake_nltk.rake.Rake._build_word_co_occurance_graph.<locals>.<lambda>()>,\n",
       "            {'mumbai': 3,\n",
       "             'teen': 3,\n",
       "             'reflects': 3,\n",
       "             'upbringing': 1,\n",
       "             'slums': 1,\n",
       "             'accused': 1,\n",
       "             'cheating': 1,\n",
       "             'indian': 2,\n",
       "             'version': 2,\n",
       "             'wants': 1,\n",
       "             'millionaire': 2,\n",
       "             '?\"': 2})"
      ]
     },
     "execution_count": 28,
     "metadata": {},
     "output_type": "execute_result"
    }
   ],
   "source": [
    "key_words_dict_scores"
   ]
  },
  {
   "cell_type": "code",
   "execution_count": 29,
   "id": "ed475bfc",
   "metadata": {},
   "outputs": [
    {
     "data": {
      "text/plain": [
       "0      [two, imprisoned, men, bond, number, years, fi...\n",
       "1      [aging, patriarch, organized, crime, dynasty, ...\n",
       "2      [early, life, career, vito, corleone, 1920s, n...\n",
       "3      [menace, known, joker, emerges, mysterious, pa...\n",
       "4      [jury, holdout, attempts, prevent, miscarriage...\n",
       "                             ...                        \n",
       "245    [desperate, life, chronic, alcoholic, followed...\n",
       "246    [20, something, supervising, staff, member, re...\n",
       "247    [newspaper, editor, uses, every, trick, book, ...\n",
       "248    [old, man, makes, long, journey, lawn, mover, ...\n",
       "249    [mumbai, teen, reflects, upbringing, slums, ac...\n",
       "Name: Key_words, Length: 250, dtype: object"
      ]
     },
     "execution_count": 29,
     "metadata": {},
     "output_type": "execute_result"
    }
   ],
   "source": [
    "df['Key_words']"
   ]
  },
  {
   "cell_type": "code",
   "execution_count": 30,
   "id": "f621ea19",
   "metadata": {},
   "outputs": [
    {
     "data": {
      "text/html": [
       "<div>\n",
       "<style scoped>\n",
       "    .dataframe tbody tr th:only-of-type {\n",
       "        vertical-align: middle;\n",
       "    }\n",
       "\n",
       "    .dataframe tbody tr th {\n",
       "        vertical-align: top;\n",
       "    }\n",
       "\n",
       "    .dataframe thead th {\n",
       "        text-align: right;\n",
       "    }\n",
       "</style>\n",
       "<table border=\"1\" class=\"dataframe\">\n",
       "  <thead>\n",
       "    <tr style=\"text-align: right;\">\n",
       "      <th></th>\n",
       "      <th>Genre</th>\n",
       "      <th>Director</th>\n",
       "      <th>Actors</th>\n",
       "      <th>Key_words</th>\n",
       "    </tr>\n",
       "    <tr>\n",
       "      <th>Title</th>\n",
       "      <th></th>\n",
       "      <th></th>\n",
       "      <th></th>\n",
       "      <th></th>\n",
       "    </tr>\n",
       "  </thead>\n",
       "  <tbody>\n",
       "    <tr>\n",
       "      <th>The Shawshank Redemption</th>\n",
       "      <td>[crime, drama]</td>\n",
       "      <td>frankdarabont</td>\n",
       "      <td>[timrobbins, morganfreeman, bobgunton]</td>\n",
       "      <td>[two, imprisoned, men, bond, number, years, fi...</td>\n",
       "    </tr>\n",
       "    <tr>\n",
       "      <th>The Godfather</th>\n",
       "      <td>[crime, drama]</td>\n",
       "      <td>francisfordcoppola</td>\n",
       "      <td>[marlonbrando, alpacino, jamescaan]</td>\n",
       "      <td>[aging, patriarch, organized, crime, dynasty, ...</td>\n",
       "    </tr>\n",
       "    <tr>\n",
       "      <th>The Godfather: Part II</th>\n",
       "      <td>[crime, drama]</td>\n",
       "      <td>francisfordcoppola</td>\n",
       "      <td>[alpacino, robertduvall, dianekeaton]</td>\n",
       "      <td>[early, life, career, vito, corleone, 1920s, n...</td>\n",
       "    </tr>\n",
       "    <tr>\n",
       "      <th>The Dark Knight</th>\n",
       "      <td>[action, crime, drama]</td>\n",
       "      <td>christophernolan</td>\n",
       "      <td>[christianbale, heathledger, aaroneckhart]</td>\n",
       "      <td>[menace, known, joker, emerges, mysterious, pa...</td>\n",
       "    </tr>\n",
       "    <tr>\n",
       "      <th>12 Angry Men</th>\n",
       "      <td>[crime, drama]</td>\n",
       "      <td>sidneylumet</td>\n",
       "      <td>[martinbalsam, johnfiedler, leej.cobb]</td>\n",
       "      <td>[jury, holdout, attempts, prevent, miscarriage...</td>\n",
       "    </tr>\n",
       "  </tbody>\n",
       "</table>\n",
       "</div>"
      ],
      "text/plain": [
       "                                           Genre            Director  \\\n",
       "Title                                                                  \n",
       "The Shawshank Redemption          [crime, drama]       frankdarabont   \n",
       "The Godfather                     [crime, drama]  francisfordcoppola   \n",
       "The Godfather: Part II            [crime, drama]  francisfordcoppola   \n",
       "The Dark Knight           [action, crime, drama]    christophernolan   \n",
       "12 Angry Men                      [crime, drama]         sidneylumet   \n",
       "\n",
       "                                                              Actors  \\\n",
       "Title                                                                  \n",
       "The Shawshank Redemption      [timrobbins, morganfreeman, bobgunton]   \n",
       "The Godfather                    [marlonbrando, alpacino, jamescaan]   \n",
       "The Godfather: Part II         [alpacino, robertduvall, dianekeaton]   \n",
       "The Dark Knight           [christianbale, heathledger, aaroneckhart]   \n",
       "12 Angry Men                  [martinbalsam, johnfiedler, leej.cobb]   \n",
       "\n",
       "                                                                  Key_words  \n",
       "Title                                                                        \n",
       "The Shawshank Redemption  [two, imprisoned, men, bond, number, years, fi...  \n",
       "The Godfather             [aging, patriarch, organized, crime, dynasty, ...  \n",
       "The Godfather: Part II    [early, life, career, vito, corleone, 1920s, n...  \n",
       "The Dark Knight           [menace, known, joker, emerges, mysterious, pa...  \n",
       "12 Angry Men              [jury, holdout, attempts, prevent, miscarriage...  "
      ]
     },
     "execution_count": 30,
     "metadata": {},
     "output_type": "execute_result"
    }
   ],
   "source": [
    "df.set_index('Title', inplace =  True)\n",
    "df.head()"
   ]
  },
  {
   "cell_type": "code",
   "execution_count": 31,
   "id": "4fb7ae76",
   "metadata": {},
   "outputs": [
    {
     "name": "stdout",
     "output_type": "stream",
     "text": [
      "                                                               bag_of_words\n",
      "Title                                                                      \n",
      "The Shawshank Redemption  crime drama frankdarabont timrobbins morganfre...\n",
      "The Godfather             crime drama francisfordcoppola marlonbrando al...\n",
      "The Godfather: Part II    crime drama francisfordcoppola alpacino robert...\n",
      "The Dark Knight           action crime drama christophernolan christianb...\n",
      "12 Angry Men              crime drama sidneylumet martinbalsam johnfiedl...\n"
     ]
    }
   ],
   "source": [
    "# Créer une colonne bag_of_words vide\n",
    "df['bag_of_words'] = ''\n",
    "\n",
    "# Obtenir les colonnes à utiliser pour créer le bag_of_words\n",
    "columns = df.columns\n",
    "\n",
    "# Créer le bag_of_words pour chaque ligne\n",
    "for index, row in df.iterrows():\n",
    "    words = ''\n",
    "    for col in columns:\n",
    "        if col != 'Director' and col != 'bag_of_words':\n",
    "            words += ' '.join(row[col]) + ' '\n",
    "        elif col == 'Director':\n",
    "            words += row[col] + ' '\n",
    "    df.at[index, 'bag_of_words'] = words.strip()  # Utiliser df.at pour mettre à jour la valeur\n",
    "\n",
    "# Supprimer les colonnes qui ne sont pas bag_of_words\n",
    "df.drop(columns=[col for col in df.columns if col != 'bag_of_words'], inplace=True)\n",
    "\n",
    "print(df.head())\n"
   ]
  },
  {
   "cell_type": "code",
   "execution_count": 32,
   "id": "8af1b500",
   "metadata": {},
   "outputs": [],
   "source": [
    "count = CountVectorizer()\n",
    "count_matrix =  count.fit_transform(df['bag_of_words'])"
   ]
  },
  {
   "cell_type": "code",
   "execution_count": 33,
   "id": "8bae5302",
   "metadata": {},
   "outputs": [
    {
     "data": {
      "text/plain": [
       "<250x2961 sparse matrix of type '<class 'numpy.int64'>'\n",
       "\twith 5342 stored elements in Compressed Sparse Row format>"
      ]
     },
     "execution_count": 33,
     "metadata": {},
     "output_type": "execute_result"
    }
   ],
   "source": [
    "count_matrix"
   ]
  },
  {
   "cell_type": "code",
   "execution_count": 34,
   "id": "d328875c",
   "metadata": {},
   "outputs": [],
   "source": [
    "c = count_matrix.todense()"
   ]
  },
  {
   "cell_type": "code",
   "execution_count": 35,
   "id": "23006d3d",
   "metadata": {},
   "outputs": [
    {
     "data": {
      "text/plain": [
       "matrix([[0, 0, 0, ..., 0, 0, 0],\n",
       "        [0, 0, 0, ..., 0, 0, 0],\n",
       "        [0, 0, 0, ..., 0, 0, 0],\n",
       "        ...,\n",
       "        [0, 0, 0, ..., 0, 0, 0],\n",
       "        [0, 0, 0, ..., 0, 0, 0],\n",
       "        [0, 0, 0, ..., 0, 0, 0]], dtype=int64)"
      ]
     },
     "execution_count": 35,
     "metadata": {},
     "output_type": "execute_result"
    }
   ],
   "source": [
    "c"
   ]
  },
  {
   "cell_type": "code",
   "execution_count": 36,
   "id": "6407a253",
   "metadata": {},
   "outputs": [
    {
     "name": "stdout",
     "output_type": "stream",
     "text": [
      "  (0, 584)\t1\n",
      "  (0, 768)\t1\n",
      "  (0, 1011)\t1\n",
      "  (0, 2678)\t1\n",
      "  (0, 1810)\t1\n",
      "  (0, 306)\t1\n",
      "  (0, 2765)\t1\n",
      "  (0, 1269)\t1\n",
      "  (0, 1733)\t1\n",
      "  (0, 311)\t1\n",
      "  (0, 1899)\t1\n",
      "  (0, 2950)\t1\n",
      "  (0, 969)\t1\n",
      "  (0, 2481)\t1\n",
      "  (0, 888)\t1\n",
      "  (0, 2174)\t1\n",
      "  (0, 59)\t1\n",
      "  (0, 519)\t1\n",
      "  (0, 655)\t1\n"
     ]
    }
   ],
   "source": [
    "print(count_matrix[0,:])"
   ]
  },
  {
   "cell_type": "code",
   "execution_count": 37,
   "id": "1548189d",
   "metadata": {},
   "outputs": [
    {
     "data": {
      "text/plain": [
       "array([[1.        , 0.15789474, 0.13764944, ..., 0.05263158, 0.05263158,\n",
       "        0.05564149],\n",
       "       [0.15789474, 1.        , 0.36706517, ..., 0.05263158, 0.05263158,\n",
       "        0.05564149],\n",
       "       [0.13764944, 0.36706517, 1.        , ..., 0.04588315, 0.04588315,\n",
       "        0.04850713],\n",
       "       ...,\n",
       "       [0.05263158, 0.05263158, 0.04588315, ..., 1.        , 0.05263158,\n",
       "        0.05564149],\n",
       "       [0.05263158, 0.05263158, 0.04588315, ..., 0.05263158, 1.        ,\n",
       "        0.05564149],\n",
       "       [0.05564149, 0.05564149, 0.04850713, ..., 0.05564149, 0.05564149,\n",
       "        1.        ]])"
      ]
     },
     "execution_count": 37,
     "metadata": {},
     "output_type": "execute_result"
    }
   ],
   "source": [
    "cosine_sim = cosine_similarity(count_matrix , count_matrix)\n",
    "cosine_sim"
   ]
  },
  {
   "cell_type": "code",
   "execution_count": 38,
   "id": "05843c80",
   "metadata": {},
   "outputs": [
    {
     "data": {
      "text/plain": [
       "0                              The Shawshank Redemption\n",
       "1                                         The Godfather\n",
       "2                                The Godfather: Part II\n",
       "3                                       The Dark Knight\n",
       "4                                          12 Angry Men\n",
       "5                                      Schindler's List\n",
       "6         The Lord of the Rings: The Return of the King\n",
       "7                                          Pulp Fiction\n",
       "8                                            Fight Club\n",
       "9     The Lord of the Rings: The Fellowship of the Ring\n",
       "10                                         Forrest Gump\n",
       "11       Star Wars: Episode V - The Empire Strikes Back\n",
       "12                                            Inception\n",
       "13                The Lord of the Rings: The Two Towers\n",
       "14                      One Flew Over the Cuckoo's Nest\n",
       "15                                           Goodfellas\n",
       "16                                           The Matrix\n",
       "17                   Star Wars: Episode IV - A New Hope\n",
       "18                                                Se7en\n",
       "19                                It's a Wonderful Life\n",
       "Name: Title, dtype: object"
      ]
     },
     "execution_count": 38,
     "metadata": {},
     "output_type": "execute_result"
    }
   ],
   "source": [
    "indices = pd.Series(df.index)\n",
    "indices[:20]"
   ]
  },
  {
   "cell_type": "code",
   "execution_count": 39,
   "id": "44b6979d",
   "metadata": {},
   "outputs": [],
   "source": [
    "def recommandation(title, cosine_sim=cosine_sim):\n",
    "    # Liste pour stocker les films recommandés\n",
    "    recommended_movies = []\n",
    "\n",
    "    # Trouver l'index du film donné dans le DataFrame\n",
    "    idx = indices[indices == title].index[0]\n",
    "\n",
    "    # Créer une série de scores de similarité cosinus pour le film donné\n",
    "    score_series = pd.Series(cosine_sim[idx]).sort_values(ascending=False)\n",
    "\n",
    "    # Récupérer les index des 10 films les plus similaires (hors le film lui-même)\n",
    "    top_10_indexes = list(score_series.iloc[1:11].index)\n",
    "\n",
    "    # Afficher les index des films recommandés (à des fins de débogage)\n",
    "    print(top_10_indexes)\n",
    "\n",
    "    # Ajouter les titres des films recommandés à la liste recommended_movies\n",
    "    for i in top_10_indexes:\n",
    "        recommended_movies.append(list(df.index)[i])\n",
    "\n",
    "    # Retourner la liste des films recommandés\n",
    "    return recommended_movies\n"
   ]
  },
  {
   "cell_type": "code",
   "execution_count": 49,
   "id": "c8fda47e",
   "metadata": {},
   "outputs": [
    {
     "name": "stdout",
     "output_type": "stream",
     "text": [
      "[51, 89, 40, 29, 50, 187, 142, 1, 114, 61]\n"
     ]
    },
    {
     "data": {
      "text/plain": [
       "['The Dark Knight Rises',\n",
       " 'Batman Begins',\n",
       " 'The Prestige',\n",
       " 'The Green Mile',\n",
       " 'Witness for the Prosecution',\n",
       " 'Out of the Past',\n",
       " 'Rush',\n",
       " 'The Godfather',\n",
       " 'V for Vendetta',\n",
       " 'Reservoir Dogs']"
      ]
     },
     "execution_count": 49,
     "metadata": {},
     "output_type": "execute_result"
    }
   ],
   "source": [
    "recommandation ('The Dark Knight')"
   ]
  },
  {
   "cell_type": "code",
   "execution_count": 46,
   "id": "d7869e98",
   "metadata": {},
   "outputs": [
    {
     "data": {
      "text/plain": [
       "'The Dark Knight'"
      ]
     },
     "execution_count": 46,
     "metadata": {},
     "output_type": "execute_result"
    }
   ],
   "source": [
    "indices[3]"
   ]
  }
 ],
 "metadata": {
  "kernelspec": {
   "display_name": "Python 3 (ipykernel)",
   "language": "python",
   "name": "python3"
  },
  "language_info": {
   "codemirror_mode": {
    "name": "ipython",
    "version": 3
   },
   "file_extension": ".py",
   "mimetype": "text/x-python",
   "name": "python",
   "nbconvert_exporter": "python",
   "pygments_lexer": "ipython3",
   "version": "3.11.7"
  }
 },
 "nbformat": 4,
 "nbformat_minor": 5
}
